{
 "cells": [
  {
   "cell_type": "markdown",
   "id": "a348346c-19e8-4370-b184-d25735f04c2c",
   "metadata": {},
   "source": [
    "# Yahoo! Task 1 Notebook\n",
    "## Author: Conor Heffron"
   ]
  },
  {
   "cell_type": "markdown",
   "id": "be11ee3e-f88e-47b6-9ee3-d1cc478e14f1",
   "metadata": {},
   "source": [
    "## Install Packages"
   ]
  },
  {
   "cell_type": "code",
   "execution_count": 1,
   "id": "81633ce6-ac27-4d58-8292-9a452b3320a1",
   "metadata": {},
   "outputs": [
    {
     "name": "stdout",
     "output_type": "stream",
     "text": [
      "Requirement already satisfied: pip in /opt/conda/lib/python3.11/site-packages (23.3)\n",
      "Collecting pip\n",
      "  Downloading pip-24.2-py3-none-any.whl.metadata (3.6 kB)\n",
      "Downloading pip-24.2-py3-none-any.whl (1.8 MB)\n",
      "\u001b[2K   \u001b[90m━━━━━━━━━━━━━━━━━━━━━━━━━━━━━━━━━━━━━━━━\u001b[0m \u001b[32m1.8/1.8 MB\u001b[0m \u001b[31m5.1 MB/s\u001b[0m eta \u001b[36m0:00:00\u001b[0ma \u001b[36m0:00:01\u001b[0m0m\n",
      "\u001b[?25hInstalling collected packages: pip\n",
      "  Attempting uninstall: pip\n",
      "    Found existing installation: pip 23.3\n",
      "    Uninstalling pip-23.3:\n",
      "      Successfully uninstalled pip-23.3\n",
      "Successfully installed pip-24.2\n",
      "Collecting pyspark\n",
      "  Downloading pyspark-3.5.2.tar.gz (317.3 MB)\n",
      "\u001b[2K     \u001b[90m━━━━━━━━━━━━━━━━━━━━━━━━━━━━━━━━━━━━━━\u001b[0m \u001b[32m317.3/317.3 MB\u001b[0m \u001b[31m16.6 MB/s\u001b[0m eta \u001b[36m0:00:00\u001b[0m00:01\u001b[0m00:01\u001b[0m\n",
      "\u001b[?25h  Preparing metadata (setup.py) ... \u001b[?25ldone\n",
      "\u001b[?25hCollecting py4j==0.10.9.7 (from pyspark)\n",
      "  Downloading py4j-0.10.9.7-py2.py3-none-any.whl.metadata (1.5 kB)\n",
      "Downloading py4j-0.10.9.7-py2.py3-none-any.whl (200 kB)\n",
      "Building wheels for collected packages: pyspark\n",
      "  Building wheel for pyspark (setup.py) ... \u001b[?25ldone\n",
      "\u001b[?25h  Created wheel for pyspark: filename=pyspark-3.5.2-py2.py3-none-any.whl size=317812366 sha256=7947ac645a394d12fcb74ff60b19ccf38245ac51c70a2c4557a14e9c2c08db4b\n",
      "  Stored in directory: /home/jovyan/.cache/pip/wheels/9d/29/ee/3a756632ca3f0a6870933bac1c9db6e4af2c068f019aba0ee1\n",
      "Successfully built pyspark\n",
      "Installing collected packages: py4j, pyspark\n",
      "Successfully installed py4j-0.10.9.7 pyspark-3.5.2\n",
      "Collecting install-jdk\n",
      "  Downloading install_jdk-1.1.0-py3-none-any.whl.metadata (12 kB)\n",
      "Downloading install_jdk-1.1.0-py3-none-any.whl (15 kB)\n",
      "Installing collected packages: install-jdk\n",
      "Successfully installed install-jdk-1.1.0\n"
     ]
    }
   ],
   "source": [
    "!pip install --upgrade pip\n",
    "!pip install pyspark\n",
    "!pip install install-jdk"
   ]
  },
  {
   "cell_type": "markdown",
   "id": "a45ea980-cd07-4242-bfcf-f2dbc0d0ac09",
   "metadata": {},
   "source": [
    "## Imports"
   ]
  },
  {
   "cell_type": "code",
   "execution_count": 2,
   "id": "eb2d53dc-670e-4351-9c18-9cdd0dd084fc",
   "metadata": {},
   "outputs": [],
   "source": [
    "import jdk # java install & configuration required for spark session\n",
    "import os # manage Java enironment variables\n",
    "from pyspark.sql import SparkSession # create spark session\n",
    "import pyspark.sql.functions as f # used for where, collect & filter operations"
   ]
  },
  {
   "cell_type": "markdown",
   "id": "3a02ef1d-7f1b-4ada-95a4-0c93186ca0cd",
   "metadata": {},
   "source": [
    "## Install & Configure JDK"
   ]
  },
  {
   "cell_type": "code",
   "execution_count": 3,
   "id": "d6af3617-999f-4d3e-a7f9-515456b968d5",
   "metadata": {},
   "outputs": [
    {
     "data": {
      "text/plain": [
       "'/home/jovyan/.jdk/jdk-11.0.24+8'"
      ]
     },
     "execution_count": 3,
     "metadata": {},
     "output_type": "execute_result"
    }
   ],
   "source": [
    "jdk.install('11')"
   ]
  },
  {
   "cell_type": "code",
   "execution_count": 4,
   "id": "4add7589-73ee-4a7a-8696-4b0c89e9cd92",
   "metadata": {},
   "outputs": [],
   "source": [
    "JAVA_HOME = \"/home/jovyan/.jdk/jdk-11.0.24+8\"\n",
    "os.environ[\"JAVA_HOME\"] = JAVA_HOME\n",
    "os.environ[\"PATH\"] = f\"{JAVA_HOME}/bin:{os.environ['PATH']}\""
   ]
  },
  {
   "cell_type": "markdown",
   "id": "11614fa5-aa8f-40d7-b957-075245fe81ae",
   "metadata": {},
   "source": [
    "## Create Py Spark Session"
   ]
  },
  {
   "cell_type": "code",
   "execution_count": 5,
   "id": "ca6655a3-98a5-48f6-bdae-b74a4644fb89",
   "metadata": {},
   "outputs": [
    {
     "name": "stderr",
     "output_type": "stream",
     "text": [
      "Setting default log level to \"WARN\".\n",
      "To adjust logging level use sc.setLogLevel(newLevel). For SparkR, use setLogLevel(newLevel).\n",
      "24/09/20 22:50:21 WARN NativeCodeLoader: Unable to load native-hadoop library for your platform... using builtin-java classes where applicable\n"
     ]
    }
   ],
   "source": [
    "spark = SparkSession.builder.appName(\"Python Spark\").getOrCreate()"
   ]
  },
  {
   "cell_type": "markdown",
   "id": "3e545fbc-30a9-4134-8110-f726717c85da",
   "metadata": {},
   "source": [
    "## Load 'profile.json', 'user_seg.csv' & 'gdpr.csv' files."
   ]
  },
  {
   "cell_type": "code",
   "execution_count": 6,
   "id": "30df4da8-166b-4dc5-9a9a-80ffc7d99fc3",
   "metadata": {},
   "outputs": [
    {
     "name": "stderr",
     "output_type": "stream",
     "text": [
      "                                                                                \r"
     ]
    }
   ],
   "source": [
    "df_profile = spark.read.json(\"profile.json\")\n",
    "df_user_seg = spark.read.csv(\"user_seg.csv\", header=True)\n",
    "df_gdpr = spark.read.csv(\"gdpr.csv\", header=True)"
   ]
  },
  {
   "cell_type": "markdown",
   "id": "c25dcfc6-10b6-4e81-b6ba-55e2c50e94e0",
   "metadata": {},
   "source": [
    "### View existing profile data loaded"
   ]
  },
  {
   "cell_type": "code",
   "execution_count": 7,
   "id": "7d8c5fae-6b95-47cc-94c7-0d49f99f5977",
   "metadata": {},
   "outputs": [
    {
     "name": "stdout",
     "output_type": "stream",
     "text": [
      "+----------+-------+\n",
      "|  segments|user_id|\n",
      "+----------+-------+\n",
      "|     [111]|  user2|\n",
      "|     [111]|  user5|\n",
      "|[111, 444]|  user3|\n",
      "+----------+-------+\n",
      "\n"
     ]
    }
   ],
   "source": [
    "df_profile.show()"
   ]
  },
  {
   "cell_type": "markdown",
   "id": "dfb3b8b6-ceba-4968-8735-28557cdaeeaa",
   "metadata": {},
   "source": [
    "#### *Note:* 'segments' column is array with up to 2 elements"
   ]
  },
  {
   "cell_type": "markdown",
   "id": "658ea9d3-9f7c-4fc9-9550-5837a0278ce8",
   "metadata": {},
   "source": [
    "### Pre-processing of existing profile data"
   ]
  },
  {
   "cell_type": "code",
   "execution_count": 8,
   "id": "f8773c6e-3a56-4ade-b72e-6c44e6b7a022",
   "metadata": {},
   "outputs": [
    {
     "name": "stdout",
     "output_type": "stream",
     "text": [
      "root\n",
      " |-- segments: array (nullable = true)\n",
      " |    |-- element: long (containsNull = true)\n",
      " |-- user_id: string (nullable = true)\n",
      "\n"
     ]
    }
   ],
   "source": [
    "# print details of data frame, column names/types\n",
    "df_profile.printSchema()"
   ]
  },
  {
   "cell_type": "code",
   "execution_count": 9,
   "id": "388d4245-669e-4965-9ceb-974b29fab18f",
   "metadata": {},
   "outputs": [
    {
     "name": "stdout",
     "output_type": "stream",
     "text": [
      "+-------+-------+\n",
      "|user_id|segment|\n",
      "+-------+-------+\n",
      "|  user2|    111|\n",
      "|  user5|    111|\n",
      "|  user3|    111|\n",
      "+-------+-------+\n",
      "\n"
     ]
    }
   ],
   "source": [
    "# get & rename array column part 1 values\n",
    "df_profile_a = df_profile\\\n",
    "    .select(\"user_id\", df_profile.segments[0])\\\n",
    "    .withColumnRenamed(\"segments[0]\", \"segment\")\n",
    "df_profile_a.show()"
   ]
  },
  {
   "cell_type": "code",
   "execution_count": 10,
   "id": "07a89a24-9ef3-4709-8d4d-63f1ecd4f43c",
   "metadata": {},
   "outputs": [
    {
     "name": "stdout",
     "output_type": "stream",
     "text": [
      "+-------+-------+\n",
      "|user_id|segment|\n",
      "+-------+-------+\n",
      "|  user2|   NULL|\n",
      "|  user5|   NULL|\n",
      "|  user3|    444|\n",
      "+-------+-------+\n",
      "\n"
     ]
    }
   ],
   "source": [
    "# get & rename array column part 2 values\n",
    "df_profile_b = df_profile\\\n",
    "    .select(\"user_id\", df_profile.segments[1])\\\n",
    "    .withColumnRenamed(\"segments[1]\", \"segment\")\n",
    "df_profile_b.show()"
   ]
  },
  {
   "cell_type": "code",
   "execution_count": 11,
   "id": "60cde5c9-ac3f-4048-bc80-5f648e33169d",
   "metadata": {},
   "outputs": [],
   "source": [
    "# join df_prof_seg a/b (part 1/2) data frames and drop rows where 'segment' value is NULL\n",
    "df_profile_full = df_profile_a\\\n",
    "    .join(df_profile_b, ['user_id', 'segment'], 'outer')\\\n",
    "    .where(f.col(\"segment\")\\\n",
    "           .isNotNull())"
   ]
  },
  {
   "cell_type": "markdown",
   "id": "7be4852f-cdf5-4f53-b775-06e4f9a1a07e",
   "metadata": {},
   "source": [
    "### View Updated User Profile data"
   ]
  },
  {
   "cell_type": "code",
   "execution_count": 12,
   "id": "675f158c-a03d-41d7-ac25-9861c50e3c16",
   "metadata": {},
   "outputs": [
    {
     "name": "stdout",
     "output_type": "stream",
     "text": [
      "+-------+-------+\n",
      "|user_id|segment|\n",
      "+-------+-------+\n",
      "|  user2|    111|\n",
      "|  user3|    111|\n",
      "|  user3|    444|\n",
      "|  user5|    111|\n",
      "+-------+-------+\n",
      "\n"
     ]
    }
   ],
   "source": [
    "df_profile_full.show()"
   ]
  },
  {
   "cell_type": "markdown",
   "id": "54a2cce5-63e4-471a-b7e8-2dd67fb125dc",
   "metadata": {},
   "source": [
    "### View General Data Protection Regulation (GDPR) data loaded (EU User IDs to exclude)"
   ]
  },
  {
   "cell_type": "code",
   "execution_count": 13,
   "id": "0fd5fdaf-a8c6-45d3-abe4-ba83c2913305",
   "metadata": {},
   "outputs": [
    {
     "name": "stdout",
     "output_type": "stream",
     "text": [
      "+-------+\n",
      "|user_id|\n",
      "+-------+\n",
      "|  user1|\n",
      "|  user2|\n",
      "+-------+\n",
      "\n"
     ]
    }
   ],
   "source": [
    "df_gdpr.show()"
   ]
  },
  {
   "cell_type": "markdown",
   "id": "ad8b91fc-ff1d-4264-aa80-29b14e5f6d71",
   "metadata": {},
   "source": [
    "### View the Result of Joining User Segmentation df with Profile df"
   ]
  },
  {
   "cell_type": "code",
   "execution_count": 14,
   "id": "42bf180e-31a0-4536-9429-bab198f032fb",
   "metadata": {},
   "outputs": [
    {
     "name": "stdout",
     "output_type": "stream",
     "text": [
      "+-------+-------+\n",
      "|user_id|segment|\n",
      "+-------+-------+\n",
      "|  user1|    111|\n",
      "|  user2|    222|\n",
      "|  user3|    111|\n",
      "|  user3|    222|\n",
      "|  user4|    444|\n",
      "+-------+-------+\n",
      "\n"
     ]
    }
   ],
   "source": [
    "df_user_seg.show()"
   ]
  },
  {
   "cell_type": "code",
   "execution_count": 15,
   "id": "c0f23eb6-05d0-461c-ae19-aad4515fc0c9",
   "metadata": {},
   "outputs": [],
   "source": [
    "# outer join by user ID and segment\n",
    "df = df_user_seg\\\n",
    "    .join(df_profile_full, ['user_id', 'segment'], 'outer')"
   ]
  },
  {
   "cell_type": "code",
   "execution_count": 16,
   "id": "e541ff2c-8c8a-451e-8f83-65d790751702",
   "metadata": {},
   "outputs": [
    {
     "name": "stdout",
     "output_type": "stream",
     "text": [
      "+-------+-------+\n",
      "|user_id|segment|\n",
      "+-------+-------+\n",
      "|  user1|    111|\n",
      "|  user2|    111|\n",
      "|  user2|    222|\n",
      "|  user3|    111|\n",
      "|  user3|    222|\n",
      "|  user3|    444|\n",
      "|  user4|    444|\n",
      "|  user5|    111|\n",
      "+-------+-------+\n",
      "\n"
     ]
    }
   ],
   "source": [
    "df.show()"
   ]
  },
  {
   "cell_type": "markdown",
   "id": "f727f96a-3aa2-4f6d-b5a9-47f9a1619a48",
   "metadata": {},
   "source": [
    "### First approach to Exclude 'user_id'(s) from GDPR data in final output"
   ]
  },
  {
   "cell_type": "code",
   "execution_count": 17,
   "id": "9d32f560-52fa-4a6d-84c2-45f9177a09d4",
   "metadata": {},
   "outputs": [
    {
     "name": "stdout",
     "output_type": "stream",
     "text": [
      "+-------+-------+\n",
      "|user_id|segment|\n",
      "+-------+-------+\n",
      "|  user3|    111|\n",
      "|  user3|    222|\n",
      "|  user3|    444|\n",
      "|  user4|    444|\n",
      "|  user5|    111|\n",
      "+-------+-------+\n",
      "\n"
     ]
    }
   ],
   "source": [
    "# use left anti join to exclude GDPR user IDs from final result set\n",
    "df.join(df_gdpr, 'user_id', 'leftanti')\\\n",
    "    .show()"
   ]
  },
  {
   "cell_type": "markdown",
   "id": "7aa338c4-78f1-484a-9efe-5056a3cf1ebd",
   "metadata": {},
   "source": [
    "## Alternative approach "
   ]
  },
  {
   "cell_type": "code",
   "execution_count": 18,
   "id": "755f59ff-de87-4c3f-9b69-10bce9e333f1",
   "metadata": {},
   "outputs": [],
   "source": [
    "# get list of user IDs to exclude\n",
    "exclude_user_ids = df_gdpr.select(f.collect_list('user_id')).first()[0]"
   ]
  },
  {
   "cell_type": "code",
   "execution_count": 19,
   "id": "e088aedb-51bf-4fda-a00b-f555e4b1c3b2",
   "metadata": {},
   "outputs": [],
   "source": [
    "# use filter to keep only rows where user IDs NOT in exclude_user_ids list (note tilda required at start of filter criteria)\n",
    "df_excl = df\\\n",
    "    .filter(~df.user_id\\\n",
    "            .isin(exclude_user_ids))"
   ]
  },
  {
   "cell_type": "code",
   "execution_count": 20,
   "id": "97b1c643-0ab3-4004-a1ac-0899fd5dd2bd",
   "metadata": {},
   "outputs": [
    {
     "name": "stdout",
     "output_type": "stream",
     "text": [
      "+-------+-------+\n",
      "|user_id|segment|\n",
      "+-------+-------+\n",
      "|  user3|    111|\n",
      "|  user3|    222|\n",
      "|  user3|    444|\n",
      "|  user4|    444|\n",
      "|  user5|    111|\n",
      "+-------+-------+\n",
      "\n"
     ]
    }
   ],
   "source": [
    "df_excl.show()"
   ]
  },
  {
   "cell_type": "markdown",
   "id": "d20dce40-32e7-4092-9f16-583bb3e003a3",
   "metadata": {},
   "source": [
    "### Drop duplicates (if any)"
   ]
  },
  {
   "cell_type": "code",
   "execution_count": 25,
   "id": "52ca2981-4f60-4d55-b701-6db4857c1bbc",
   "metadata": {},
   "outputs": [],
   "source": [
    "df_final = df_excl.select('user_id', 'segment')\\\n",
    "    .dropDuplicates()"
   ]
  },
  {
   "cell_type": "markdown",
   "id": "b0efa572-1085-4f80-882a-7eba2af6dd6d",
   "metadata": {},
   "source": [
    "# Final Result"
   ]
  },
  {
   "cell_type": "code",
   "execution_count": 26,
   "id": "cb312e6d-6d1c-4140-8888-679ecc331765",
   "metadata": {},
   "outputs": [
    {
     "name": "stdout",
     "output_type": "stream",
     "text": [
      "root\n",
      " |-- user_id: string (nullable = true)\n",
      " |-- segment: string (nullable = true)\n",
      "\n"
     ]
    }
   ],
   "source": [
    "df_final.printSchema()"
   ]
  },
  {
   "cell_type": "code",
   "execution_count": 27,
   "id": "3e8ddc03-4cb2-4d63-9737-6b191f8eeabe",
   "metadata": {},
   "outputs": [
    {
     "name": "stdout",
     "output_type": "stream",
     "text": [
      "+-------+-------+\n",
      "|user_id|segment|\n",
      "+-------+-------+\n",
      "|  user4|    444|\n",
      "|  user5|    111|\n",
      "|  user3|    222|\n",
      "|  user3|    444|\n",
      "|  user3|    111|\n",
      "+-------+-------+\n",
      "\n"
     ]
    }
   ],
   "source": [
    "df_final.show()"
   ]
  },
  {
   "cell_type": "code",
   "execution_count": 28,
   "id": "c8498f20-79b7-49a5-bec7-c487c639fc78",
   "metadata": {},
   "outputs": [
    {
     "name": "stdout",
     "output_type": "stream",
     "text": [
      "+-------+---------------------+\n",
      "|user_id|collect_list(segment)|\n",
      "+-------+---------------------+\n",
      "|  user5|                [111]|\n",
      "|  user3|      [222, 444, 111]|\n",
      "|  user4|                [444]|\n",
      "+-------+---------------------+\n",
      "\n"
     ]
    }
   ],
   "source": [
    "df_final\\\n",
    "    .groupBy(\"user_id\")\\\n",
    "    .agg(f.collect_list(\"segment\")).show()"
   ]
  },
  {
   "cell_type": "code",
   "execution_count": null,
   "id": "507b037a-6481-4264-9999-41c5a1aa3f9f",
   "metadata": {},
   "outputs": [],
   "source": []
  }
 ],
 "metadata": {
  "kernelspec": {
   "display_name": "Python 3 (ipykernel)",
   "language": "python",
   "name": "python3"
  },
  "language_info": {
   "codemirror_mode": {
    "name": "ipython",
    "version": 3
   },
   "file_extension": ".py",
   "mimetype": "text/x-python",
   "name": "python",
   "nbconvert_exporter": "python",
   "pygments_lexer": "ipython3",
   "version": "3.11.6"
  }
 },
 "nbformat": 4,
 "nbformat_minor": 5
}
